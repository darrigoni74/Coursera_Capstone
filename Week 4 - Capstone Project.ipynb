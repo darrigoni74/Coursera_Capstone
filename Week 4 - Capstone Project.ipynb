{
 "cells": [
  {
   "cell_type": "markdown",
   "metadata": {},
   "source": [
    "<h1 style=\"color:blue\">Opening a New Restaurant in Milan, Italy</h1>"
   ]
  },
  {
   "cell_type": "markdown",
   "metadata": {},
   "source": [
    "## Introduction: the Business Problem"
   ]
  },
  {
   "cell_type": "markdown",
   "metadata": {},
   "source": [
    "<p>Writers, artists, travellers, and explorers have extolled the beauty of Italy and its alluring lifestyle for centuries. Located in Northern Italy, the <b>city of Milan</b>, in particular, is for sure one of the world capitals of fashion, design, and stunning food and beverage experiences. Sipping a lively cup of <i>espresso</i> in a <i>caffetteria</i> looking out on Piazza Duomo, or enjoying a reviving plate of <i>risotto alla milanese</i> with a scented glass of Chianti, one of the easiest ways to come to terms with this charming city is to spend some time in a local restaurant or café.</p>\n",
    "<p><b>FoodExperiences Inc.</b>, an american corporation that owns and manages a number of restaurants around the world, knows this very well and it is in fact planning to open one of its restaurants in Milan. Thanks to extensive Market Research, it has already established that an innovative, high-quality and premium-price Japanese restaurant concept would gain a lot of traction in the city and be, therefore, a great business opportunity. As FoodExperiences Inc. makes rapid progress with the development of its business plan, it's now time to start identifying potentially good locations for the restaurant. Picking a location in the city center, a guarantee of huge foot traffic, seems to be a no-brainer, but at the same time, of course, the management team does not want to choose one where other Japanes and/or Asian restaurants are within reach.</p>\n",
    "In order to address this key business problem, FoodExperiences Inc.'s mandates <b>DataScienceWizards srl</b>, an Italian data science boutique that specializes in addressing and solving key business questions through data and location data, to:\n",
    "<ol><li>conduct a quick, preliminary analysis of the current food and restaurant offering in Milan; and</li><li>provide FoodExperiences Inc. with a first recommendation of good restaurant location neighborhoods in the city center.</li></ol> "
   ]
  },
  {
   "cell_type": "markdown",
   "metadata": {},
   "source": [
    "## The Dataset"
   ]
  },
  {
   "cell_type": "markdown",
   "metadata": {},
   "source": [
    "<p>The Team at DataScienceWizards srl immediately gets down to work. First of all, by using the Foursquare API, it performs a preliminary analysis, with descriptive and summary statistics and visualization onto a Folium map, of the current restaurant offering in the city of Milan.</p>\n",
    "<p>Then, DataScienceWizards srl gets the most recent copy of a highly influential Italian report that lists the trendiest neighborhoods in Milan in terms of lifestyle and night life, opens up a Jupyter Nootbook, and creates a Pandas dataframe describing and locating those 12 neighborhoods. For each of them, the different types of offered food and beverage experiences are determined, once again thanks to the data provided by the Foursquare API.</p>\n",
    "<p>Finally the neighborhoods are clustered by using unsupervised Machine Learning (k-means) in order to identify the neighborhoods that offer similar food experiences. Clusters are analyzed to determine their differentiating features and a narrowed-down list of Milan center neighborhoods, that best match the business requirements, are recommended to FoodExperiences Inc.</p>"
   ]
  }
 ],
 "metadata": {
  "kernelspec": {
   "display_name": "Python",
   "language": "python",
   "name": "conda-env-python-py"
  },
  "language_info": {
   "codemirror_mode": {
    "name": "ipython",
    "version": 3
   },
   "file_extension": ".py",
   "mimetype": "text/x-python",
   "name": "python",
   "nbconvert_exporter": "python",
   "pygments_lexer": "ipython3",
   "version": "3.6.10"
  }
 },
 "nbformat": 4,
 "nbformat_minor": 4
}
